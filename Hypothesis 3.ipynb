{
 "cells": [
  {
   "cell_type": "code",
   "execution_count": 1,
   "id": "40566682",
   "metadata": {},
   "outputs": [],
   "source": [
    "import scipy.stats as stats\n",
    "import statsmodels.api as sm\n",
    "import numpy as np\n",
    "import pandas as pd\n",
    "import seaborn as sns\n",
    "import matplotlib.pyplot as plt\n",
    "import warnings\n",
    "warnings.filterwarnings(\"ignore\")"
   ]
  },
  {
   "cell_type": "markdown",
   "id": "ad09cbd3",
   "metadata": {},
   "source": [
    "## 3.Sales of products in four different regions is tabulated for males and females. Find if male-female buyer rations are similar across regions.\n"
   ]
  },
  {
   "cell_type": "markdown",
   "id": "87abc520",
   "metadata": {},
   "source": [
    "###  We are going to conduct a Test of Independence using Chi-Square  test with Contingency table\n",
    "###  We need to check whether the proportion of any of these samples are different or the same?"
   ]
  },
  {
   "cell_type": "markdown",
   "id": "e8ba435f",
   "metadata": {},
   "source": [
    "## Step 1\n",
    "\n",
    "\n",
    "### Null Hypothesis: There is no association or dependency between the gender based buyer rations across regions\n",
    "### Alternative Hypthosis: There is a significant association or dependency between the gender based buyer rations across regions"
   ]
  },
  {
   "cell_type": "markdown",
   "id": "1c7c3723",
   "metadata": {},
   "source": [
    "## Step 2\n",
    "\n",
    "\n",
    "###  Decide a cut-off value\n",
    "###                Significance 5%\n",
    "###                alpha = 0.05"
   ]
  },
  {
   "cell_type": "markdown",
   "id": "78b3c264",
   "metadata": {},
   "source": [
    "##  Step 3\n",
    "###  Collect evidence\n",
    "###  Importing Files"
   ]
  },
  {
   "cell_type": "code",
   "execution_count": 2,
   "id": "2130e7c0",
   "metadata": {},
   "outputs": [],
   "source": [
    "hyp3=pd.read_csv('../Datasets/BuyerRatio.csv')"
   ]
  },
  {
   "cell_type": "code",
   "execution_count": 3,
   "id": "39e57cd3",
   "metadata": {},
   "outputs": [
    {
     "data": {
      "text/html": [
       "<div>\n",
       "<style scoped>\n",
       "    .dataframe tbody tr th:only-of-type {\n",
       "        vertical-align: middle;\n",
       "    }\n",
       "\n",
       "    .dataframe tbody tr th {\n",
       "        vertical-align: top;\n",
       "    }\n",
       "\n",
       "    .dataframe thead th {\n",
       "        text-align: right;\n",
       "    }\n",
       "</style>\n",
       "<table border=\"1\" class=\"dataframe\">\n",
       "  <thead>\n",
       "    <tr style=\"text-align: right;\">\n",
       "      <th></th>\n",
       "      <th>Observed Values</th>\n",
       "      <th>East</th>\n",
       "      <th>West</th>\n",
       "      <th>North</th>\n",
       "      <th>South</th>\n",
       "    </tr>\n",
       "  </thead>\n",
       "  <tbody>\n",
       "    <tr>\n",
       "      <th>0</th>\n",
       "      <td>Males</td>\n",
       "      <td>50</td>\n",
       "      <td>142</td>\n",
       "      <td>131</td>\n",
       "      <td>70</td>\n",
       "    </tr>\n",
       "    <tr>\n",
       "      <th>1</th>\n",
       "      <td>Females</td>\n",
       "      <td>435</td>\n",
       "      <td>1523</td>\n",
       "      <td>1356</td>\n",
       "      <td>750</td>\n",
       "    </tr>\n",
       "  </tbody>\n",
       "</table>\n",
       "</div>"
      ],
      "text/plain": [
       "  Observed Values  East  West  North  South\n",
       "0           Males    50   142    131     70\n",
       "1         Females   435  1523   1356    750"
      ]
     },
     "execution_count": 3,
     "metadata": {},
     "output_type": "execute_result"
    }
   ],
   "source": [
    "hyp3.head()"
   ]
  },
  {
   "cell_type": "markdown",
   "id": "e78651e2",
   "metadata": {},
   "source": [
    "## Applying Chi-Square contingency table to convert observed value into expected value"
   ]
  },
  {
   "cell_type": "code",
   "execution_count": 4,
   "id": "268c7e8a",
   "metadata": {},
   "outputs": [],
   "source": [
    "tbl=[[50,142,131,70],[435,1523,1356,750]]\n"
   ]
  },
  {
   "cell_type": "code",
   "execution_count": 5,
   "id": "c5a71b2f",
   "metadata": {},
   "outputs": [],
   "source": [
    "stat, p, dof, expected = stats.chi2_contingency(tbl)"
   ]
  },
  {
   "cell_type": "code",
   "execution_count": 6,
   "id": "cd2436a2",
   "metadata": {},
   "outputs": [
    {
     "data": {
      "text/plain": [
       "3"
      ]
     },
     "execution_count": 6,
     "metadata": {},
     "output_type": "execute_result"
    }
   ],
   "source": [
    "dof"
   ]
  },
  {
   "cell_type": "code",
   "execution_count": 7,
   "id": "49a5258a",
   "metadata": {},
   "outputs": [
    {
     "data": {
      "text/plain": [
       "array([[  42.76531299,  146.81287862,  131.11756787,   72.30424052],\n",
       "       [ 442.23468701, 1518.18712138, 1355.88243213,  747.69575948]])"
      ]
     },
     "execution_count": 7,
     "metadata": {},
     "output_type": "execute_result"
    }
   ],
   "source": [
    "expected"
   ]
  },
  {
   "cell_type": "code",
   "execution_count": 8,
   "id": "6509078e",
   "metadata": {},
   "outputs": [
    {
     "data": {
      "text/plain": [
       "0.6603094907091882"
      ]
     },
     "execution_count": 8,
     "metadata": {},
     "output_type": "execute_result"
    }
   ],
   "source": [
    "p"
   ]
  },
  {
   "cell_type": "code",
   "execution_count": 9,
   "id": "31d3622f",
   "metadata": {},
   "outputs": [
    {
     "data": {
      "text/plain": [
       "1.595945538661058"
      ]
     },
     "execution_count": 9,
     "metadata": {},
     "output_type": "execute_result"
    }
   ],
   "source": [
    "stat"
   ]
  },
  {
   "cell_type": "markdown",
   "id": "5e9c93ab",
   "metadata": {},
   "source": [
    "## Step 4\n",
    "\n",
    "### Comparing Evidence with Hypothesis"
   ]
  },
  {
   "cell_type": "code",
   "execution_count": 10,
   "id": "9e24d063",
   "metadata": {},
   "outputs": [],
   "source": [
    "observed = np.array([50, 142, 131, 70, 435, 1523, 1356, 750])\n",
    "expected = np.array([42.76531299,  146.81287862,  131.11756787, 72.30424052, 442.23468701, 1518.18712138, 1355.882432, 747.69575948])"
   ]
  },
  {
   "cell_type": "code",
   "execution_count": 11,
   "id": "3cfe4e24",
   "metadata": {},
   "outputs": [
    {
     "name": "stdout",
     "output_type": "stream",
     "text": [
      "Statistics =  1.5959455391139938 \n",
      " P_Value =  0.8095206646865211\n"
     ]
    }
   ],
   "source": [
    "statistics, p_value = stats.chisquare(observed, expected, ddof = 3)\n",
    "print(\"Statistics = \",statistics,\"\\n\",'P_Value = ', p_value)"
   ]
  },
  {
   "cell_type": "markdown",
   "id": "7fde4d21",
   "metadata": {},
   "source": [
    "## Compare p_value with 'α '(Significane Level)"
   ]
  },
  {
   "cell_type": "code",
   "execution_count": 12,
   "id": "5a547a58",
   "metadata": {},
   "outputs": [
    {
     "name": "stdout",
     "output_type": "stream",
     "text": [
      "Significnace=0.050000, p=0.809521\n",
      "We fail to reject Null hypothesis\n"
     ]
    }
   ],
   "source": [
    "alpha = 0.05\n",
    "print('Significnace=%f, p=%f' % (alpha, p_value))\n",
    "if p_value <= alpha:\n",
    "    print('We reject Null Hypothesis there is a significance difference between TAT of reports of the laboratories')\n",
    "else:\n",
    "    print('We fail to reject Null hypothesis')"
   ]
  },
  {
   "cell_type": "markdown",
   "id": "8a3b912d",
   "metadata": {},
   "source": [
    "## We fail to reject Null Hypothesis because of lack evidence. Therefore, there is no association or dependency between male-female buyers rations and are similar across regions. Hence, Independent samples"
   ]
  },
  {
   "cell_type": "code",
   "execution_count": null,
   "id": "ecd29848",
   "metadata": {},
   "outputs": [],
   "source": []
  }
 ],
 "metadata": {
  "kernelspec": {
   "display_name": "Python 3 (ipykernel)",
   "language": "python",
   "name": "python3"
  },
  "language_info": {
   "codemirror_mode": {
    "name": "ipython",
    "version": 3
   },
   "file_extension": ".py",
   "mimetype": "text/x-python",
   "name": "python",
   "nbconvert_exporter": "python",
   "pygments_lexer": "ipython3",
   "version": "3.11.5"
  }
 },
 "nbformat": 4,
 "nbformat_minor": 5
}
